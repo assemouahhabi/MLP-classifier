{
  "nbformat": 4,
  "nbformat_minor": 0,
  "metadata": {
    "colab": {
      "name": "MLP_GA_Final.ipynb",
      "provenance": [],
      "collapsed_sections": [
        "mZOFI0PfK5z9",
        "7XQmfkcVX9_c",
        "Xrd3jiy1Y3DS"
      ]
    },
    "kernelspec": {
      "name": "python3",
      "display_name": "Python 3"
    }
  },
  "cells": [
    {
      "cell_type": "markdown",
      "metadata": {
        "id": "L0NBZ9X-Ym6j"
      },
      "source": [
        "###Load librairies:"
      ]
    },
    {
      "cell_type": "code",
      "metadata": {
        "id": "4kHwQztG5en5"
      },
      "source": [
        "from sklearn import datasets\n",
        "import numpy as np\n",
        "from sklearn.neural_network import MLPClassifier\n",
        "from sklearn.metrics import accuracy_score\n",
        "from sklearn.model_selection import train_test_split\n",
        "from random import randint\n",
        "import random\n",
        "from sklearn.metrics import accuracy_score, confusion_matrix, ConfusionMatrixDisplay\n",
        "\n",
        "\n",
        "from sklearn.metrics import precision_recall_curve\n",
        "from sklearn.metrics import PrecisionRecallDisplay\n",
        "from itertools import cycle\n",
        "\n",
        "from sklearn.metrics import roc_curve, auc\n",
        "from sklearn.metrics import RocCurveDisplay\n",
        "import matplotlib.pyplot as plt\n",
        "\n",
        "\n",
        "from tensorflow.keras.utils import to_categorical\n"
      ],
      "execution_count": null,
      "outputs": []
    },
    {
      "cell_type": "markdown",
      "metadata": {
        "id": "mrZUExi0Aw81"
      },
      "source": [
        "We load the data:"
      ]
    },
    {
      "cell_type": "code",
      "metadata": {
        "id": "upB0ZYlV5qJA"
      },
      "source": [
        "iris = datasets.load_iris()\n",
        "X = iris.data\n",
        "y = iris.target\n",
        "X_train, X_test, y_train, y_test = train_test_split(X,y, test_size = 0.8)"
      ],
      "execution_count": null,
      "outputs": []
    },
    {
      "cell_type": "markdown",
      "metadata": {
        "id": "eOby37HVA1k6"
      },
      "source": [
        "#Initializing the population:\n",
        "At this point, we need to initialize the population. The MLP is known to have activation functions to compute the value of weights, so we took for example the ('identity', 'tanh', 'relu', 'logistic') functions, the same for the optimizers ('sgd', 'adam', 'RMSprop').\n",
        "\n",
        "\n",
        "The function \"*pop_initial_mlp*\" will have as an input the size of the population, and return as an output an array which contains an activation function, an optimizer and a size of hidden layers choosen randomly."
      ]
    },
    {
      "cell_type": "code",
      "metadata": {
        "id": "2q33BlMA58oM"
      },
      "source": [
        "def pop_initial_mlp(mlp):\n",
        "  pop = []*mlp\n",
        "  activation_func = ['identity', 'tanh', 'relu', 'logistic']\n",
        "  optimizer = ['sgd', 'adam']\n",
        "  for i in range(0, mlp):\n",
        "    pop.append([random.choice(activation_func), random.choice(optimizer), random.randint(10,100), random.randint(10,100)])\n",
        "  return pop"
      ],
      "execution_count": null,
      "outputs": []
    },
    {
      "cell_type": "markdown",
      "metadata": {
        "id": "huLI9fgWKP_H"
      },
      "source": [
        "test:"
      ]
    },
    {
      "cell_type": "code",
      "metadata": {
        "colab": {
          "base_uri": "https://localhost:8080/"
        },
        "id": "T_ij1uAyKO7M",
        "outputId": "0ab30981-2dde-4dbf-e042-bb9454dcd797"
      },
      "source": [
        "pop = pop_initial_mlp(10)\n",
        "pop"
      ],
      "execution_count": null,
      "outputs": [
        {
          "output_type": "execute_result",
          "data": {
            "text/plain": [
              "[['tanh', 'sgd', 100, 68],\n",
              " ['tanh', 'sgd', 52, 33],\n",
              " ['logistic', 'adam', 66, 45],\n",
              " ['tanh', 'adam', 54, 17],\n",
              " ['logistic', 'sgd', 96, 43],\n",
              " ['relu', 'sgd', 34, 70],\n",
              " ['relu', 'sgd', 50, 92],\n",
              " ['logistic', 'sgd', 64, 33],\n",
              " ['tanh', 'sgd', 53, 19],\n",
              " ['identity', 'sgd', 25, 45]]"
            ]
          },
          "metadata": {
            "tags": []
          },
          "execution_count": 6
        }
      ]
    },
    {
      "cell_type": "markdown",
      "metadata": {
        "id": "vF3gA4KACUlX"
      },
      "source": [
        "#Computing fitness value:\n",
        "The function \"*fitness_mlp*\" have as input the population gotten with \"*pop_initial_mlp*\", the train data and the test data, and it returns the value of fitness of each element of the array \"*pop*\" which represent the attribute of the MLP classifier:"
      ]
    },
    {
      "cell_type": "code",
      "metadata": {
        "id": "GgW2YonQ67pd"
      },
      "source": [
        "def fitness_mlp(pop, X_train, y_train, X_test, y_test):\n",
        "  fitness = []\n",
        "  mlp = []\n",
        "  for p in pop:\n",
        "    mlpc = MLPClassifier(activation=p[0], solver=p[1], hidden_layer_sizes=(int(p[2]),int(p[3])), alpha=0.0001)\n",
        "    mlp.append([mlpc,p])\n",
        "  for m in mlp:\n",
        "      m[0].fit(X_train, y_train)\n",
        "      acc = accuracy_score(m[0].predict(X_test), y_test)\n",
        "      fitness.append([acc, m[0], m[1]])\n",
        "  return fitness"
      ],
      "execution_count": null,
      "outputs": []
    },
    {
      "cell_type": "markdown",
      "metadata": {
        "id": "SnZRKee7KTAe"
      },
      "source": [
        "test:"
      ]
    },
    {
      "cell_type": "code",
      "metadata": {
        "colab": {
          "base_uri": "https://localhost:8080/"
        },
        "id": "EIWNTUlm8VHG",
        "outputId": "30faab79-b03b-4c57-ebfa-5e156d9956c4"
      },
      "source": [
        "fitness = fitness_mlp(pop, X_train, y_train, X_test, y_test)\n",
        "#for fit in fitness:\n",
        "#  print(\"*****************************\")\n",
        "#  print(fit[0])\n",
        "#  print(fit[1])\n",
        "#  print(fit[2])\n",
        "#  print(\"*****************************\")"
      ],
      "execution_count": null,
      "outputs": [
        {
          "output_type": "stream",
          "text": [
            "/usr/local/lib/python3.6/dist-packages/sklearn/neural_network/_multilayer_perceptron.py:571: ConvergenceWarning: Stochastic Optimizer: Maximum iterations (200) reached and the optimization hasn't converged yet.\n",
            "  % self.max_iter, ConvergenceWarning)\n",
            "/usr/local/lib/python3.6/dist-packages/sklearn/neural_network/_multilayer_perceptron.py:571: ConvergenceWarning: Stochastic Optimizer: Maximum iterations (200) reached and the optimization hasn't converged yet.\n",
            "  % self.max_iter, ConvergenceWarning)\n",
            "/usr/local/lib/python3.6/dist-packages/sklearn/neural_network/_multilayer_perceptron.py:571: ConvergenceWarning: Stochastic Optimizer: Maximum iterations (200) reached and the optimization hasn't converged yet.\n",
            "  % self.max_iter, ConvergenceWarning)\n",
            "/usr/local/lib/python3.6/dist-packages/sklearn/neural_network/_multilayer_perceptron.py:571: ConvergenceWarning: Stochastic Optimizer: Maximum iterations (200) reached and the optimization hasn't converged yet.\n",
            "  % self.max_iter, ConvergenceWarning)\n",
            "/usr/local/lib/python3.6/dist-packages/sklearn/neural_network/_multilayer_perceptron.py:571: ConvergenceWarning: Stochastic Optimizer: Maximum iterations (200) reached and the optimization hasn't converged yet.\n",
            "  % self.max_iter, ConvergenceWarning)\n",
            "/usr/local/lib/python3.6/dist-packages/sklearn/neural_network/_multilayer_perceptron.py:571: ConvergenceWarning: Stochastic Optimizer: Maximum iterations (200) reached and the optimization hasn't converged yet.\n",
            "  % self.max_iter, ConvergenceWarning)\n",
            "/usr/local/lib/python3.6/dist-packages/sklearn/neural_network/_multilayer_perceptron.py:571: ConvergenceWarning: Stochastic Optimizer: Maximum iterations (200) reached and the optimization hasn't converged yet.\n",
            "  % self.max_iter, ConvergenceWarning)\n",
            "/usr/local/lib/python3.6/dist-packages/sklearn/neural_network/_multilayer_perceptron.py:571: ConvergenceWarning: Stochastic Optimizer: Maximum iterations (200) reached and the optimization hasn't converged yet.\n",
            "  % self.max_iter, ConvergenceWarning)\n"
          ],
          "name": "stderr"
        }
      ]
    },
    {
      "cell_type": "markdown",
      "metadata": {
        "id": "mZOFI0PfK5z9"
      },
      "source": [
        "#Select chromosomes with Rank Selection:\n",
        "The function bellow select chromosomes based on the fitness ranking, so the chromosomes which have the better fitness as best parents and the ones with a low fitness as worst parents:\n"
      ]
    },
    {
      "cell_type": "code",
      "metadata": {
        "id": "06-COt2zKj83"
      },
      "source": [
        "def pop_fitness_selection(fitness):\n",
        "  fittest= sorted(fitness, key=lambda elt: elt[0])\n",
        "  fittest.reverse()\n",
        "  fittest = np.array(list(fittest))\n",
        "  best_parent = fittest[:,2][:len(fittest)//2]\n",
        "  worst_parent = fittest[:,2][len(fittest)//2:]\n",
        "  return best_parent, worst_parent, fittest"
      ],
      "execution_count": null,
      "outputs": []
    },
    {
      "cell_type": "markdown",
      "metadata": {
        "id": "vTu9p8j0P3qq"
      },
      "source": [
        "test:"
      ]
    },
    {
      "cell_type": "code",
      "metadata": {
        "colab": {
          "base_uri": "https://localhost:8080/"
        },
        "id": "MMillh_jN12h",
        "outputId": "d2226a88-6a17-46f6-974f-eca71f4529db"
      },
      "source": [
        "best_parent, worst_parent, fitness_sorted = pop_fitness_selection(fitness)\n",
        "#for fit in fittest:\n",
        "#  print(fit[0])\n",
        "#  print(fit[2])\n",
        "#print(\"************************\")\n",
        "#print(\"parents\")\n",
        "print(\"***\")\n",
        "print(best_parent[0])\n",
        "print(\"***\")\n",
        "print(worst_parent[1])"
      ],
      "execution_count": null,
      "outputs": [
        {
          "output_type": "stream",
          "text": [
            "***\n",
            "['tanh', 'adam', 54, 59]\n",
            "***\n",
            "['relu', 'sgd', 34, 79]\n"
          ],
          "name": "stdout"
        }
      ]
    },
    {
      "cell_type": "markdown",
      "metadata": {
        "id": "7XQmfkcVX9_c"
      },
      "source": [
        "#Crossover:\n",
        "At this part we will crossover the best and worst parent to get better children (eugenics ~ eugénisme), so the child will get the chromosomes of the parents:"
      ]
    },
    {
      "cell_type": "code",
      "metadata": {
        "id": "XM-pIxaAQDRB"
      },
      "source": [
        "def crossover_mlp(best_parent, worst_parent):\n",
        "  child = [best_parent[0], worst_parent[1], best_parent[2], worst_parent[3]]\n",
        "  return child"
      ],
      "execution_count": null,
      "outputs": []
    },
    {
      "cell_type": "markdown",
      "metadata": {
        "id": "2k9AU0HRYBx2"
      },
      "source": [
        "test:"
      ]
    },
    {
      "cell_type": "code",
      "metadata": {
        "colab": {
          "base_uri": "https://localhost:8080/"
        },
        "id": "W0YfEiJGYBKK",
        "outputId": "a8ab0fe7-21b7-4416-8ad3-8d54e3ef8c79"
      },
      "source": [
        "child = crossover_mlp(best_parent, worst_parent)\n",
        "child"
      ],
      "execution_count": null,
      "outputs": [
        {
          "output_type": "execute_result",
          "data": {
            "text/plain": [
              "[['tanh', 'adam', 54, 59],\n",
              " ['relu', 'sgd', 34, 79],\n",
              " ['identity', 'sgd', 25, 29],\n",
              " ['logistic', 'sgd', 64, 70]]"
            ]
          },
          "metadata": {
            "tags": []
          },
          "execution_count": 65
        }
      ]
    },
    {
      "cell_type": "markdown",
      "metadata": {
        "id": "Xrd3jiy1Y3DS"
      },
      "source": [
        "#Mutation (Random Resetting):\n",
        "Like viruses and living species, choromosomes mutates to adapt to new environments. At this point, we mutate the chromosome of the best parents and worst parents with a probabilistic threshold, the mutation will be random, as we'll change the size of the MLP randomly:"
      ]
    },
    {
      "cell_type": "code",
      "metadata": {
        "id": "x1LB6eYaY6CK"
      },
      "source": [
        "def mutation_mlp(child, prob):\n",
        "  for l in range(0,len(child)):\n",
        "    if np.random.rand() > prob:\n",
        "      child[l][randint(2,3)] = child[l][randint(2,3)]+randint(1,10)\n",
        "  return child"
      ],
      "execution_count": null,
      "outputs": []
    },
    {
      "cell_type": "code",
      "metadata": {
        "colab": {
          "base_uri": "https://localhost:8080/"
        },
        "id": "YrrJEj_Pdrtg",
        "outputId": "2467b518-ba82-47b2-cbfb-b4da05ee183e"
      },
      "source": [
        "child = mutation_mlp(child, 0.2)\n",
        "child"
      ],
      "execution_count": null,
      "outputs": [
        {
          "output_type": "execute_result",
          "data": {
            "text/plain": [
              "[['tanh', 'adam', 54, 59],\n",
              " ['relu', 'sgd', 34, 79],\n",
              " ['identity', 'sgd', 25, 27],\n",
              " ['logistic', 'sgd', 64, 69]]"
            ]
          },
          "metadata": {
            "tags": []
          },
          "execution_count": 67
        }
      ]
    },
    {
      "cell_type": "markdown",
      "metadata": {
        "id": "2h2UnsbmfMwI"
      },
      "source": [
        "#Genetic Algorithm:\n",
        "At this part we'll just apply the genetic algorithm, using the methodes defined previously.\n",
        "First, we'll initialize a population \"*pop*\" which is an mlp of size \"*mlp*\", compute it \"*fitness*\" then choose the best and worst parents (those who've a great fitness and the ones with the worst fitness).\n",
        "Secondly, we'd try to get the \"*best_childs*\" by calculating the fitness of two childrens, the \"*firstchild*\" we'll be the result of a crossover between the \"*best_parent*\" and the \"*worst_parent*\" that we'd get by calculating the firness of the population \"*pop*\", and the \"*secondchild*\" will be mutated randomly by the threshold \"*prop*\", and keep looping on the number of \"*epochs*\" to get better results."
      ]
    },
    {
      "cell_type": "code",
      "metadata": {
        "id": "v1ndG64dfPla"
      },
      "source": [
        "def ga_mlp(X_train, y_train, X_test, y_test, epochs, mlp, prob):\n",
        "  pop = pop_initial_mlp(mlp)\n",
        "  fitness = fitness_mlp(pop, X_train, y_train, X_test, y_test)\n",
        "  best_parent, worst_parent, fittest = pop_fitness_selection(fitness)\n",
        "\n",
        "  for e in range(0, epochs):\n",
        "    for i in range(0, len(best_parent)):\n",
        "      firstchild = [crossover_mlp(best_parent[i], worst_parent[i])]\n",
        "      secondchild = [crossover_mlp(worst_parent[i], best_parent[i])]\n",
        "    secondchild = mutation_mlp(secondchild, prob)\n",
        "\n",
        "    fitness_firstchild = fitness_mlp(firstchild, X_train, y_train, X_test, y_test)\n",
        "    fitness_secondchild = fitness_mlp(secondchild, X_train, y_train, X_test, y_test)\n",
        "    fitness_childs = np.concatenate((fittest, fitness_firstchild, fitness_secondchild))\n",
        "    best_childs, worst_child, fittest_child = pop_fitness_selection(fitness_childs)\n",
        "\n",
        "    fitness = fittest_child[0:mlp, :]\n",
        "    best_child = fittest_child[0][1]\n",
        "  return best_child"
      ],
      "execution_count": null,
      "outputs": []
    },
    {
      "cell_type": "markdown",
      "metadata": {
        "id": "6hw1puZjpVVJ"
      },
      "source": [
        "#Application de l'algorithme génétique sur le MLP:"
      ]
    },
    {
      "cell_type": "markdown",
      "metadata": {
        "id": "j5EclLzIpmbN"
      },
      "source": [
        "#### Meilleur chromosome:\n",
        "The execution of the function \"*ga_mlp*\" returns the best choromosome which is \"*best_child*\":"
      ]
    },
    {
      "cell_type": "code",
      "metadata": {
        "colab": {
          "base_uri": "https://localhost:8080/"
        },
        "id": "sDtiA8T7ikPF",
        "outputId": "8e64ed45-8cd6-4d1a-a611-f1b65845e9b9"
      },
      "source": [
        "best_child = ga_mlp(X_train, y_train, X_test, y_test, epochs= 1, mlp= 5, prob= 0.8)"
      ],
      "execution_count": null,
      "outputs": [
        {
          "output_type": "stream",
          "text": [
            "/usr/local/lib/python3.6/dist-packages/sklearn/neural_network/_multilayer_perceptron.py:571: ConvergenceWarning: Stochastic Optimizer: Maximum iterations (200) reached and the optimization hasn't converged yet.\n",
            "  % self.max_iter, ConvergenceWarning)\n",
            "/usr/local/lib/python3.6/dist-packages/sklearn/neural_network/_multilayer_perceptron.py:571: ConvergenceWarning: Stochastic Optimizer: Maximum iterations (200) reached and the optimization hasn't converged yet.\n",
            "  % self.max_iter, ConvergenceWarning)\n",
            "/usr/local/lib/python3.6/dist-packages/sklearn/neural_network/_multilayer_perceptron.py:571: ConvergenceWarning: Stochastic Optimizer: Maximum iterations (200) reached and the optimization hasn't converged yet.\n",
            "  % self.max_iter, ConvergenceWarning)\n",
            "/usr/local/lib/python3.6/dist-packages/sklearn/neural_network/_multilayer_perceptron.py:571: ConvergenceWarning: Stochastic Optimizer: Maximum iterations (200) reached and the optimization hasn't converged yet.\n",
            "  % self.max_iter, ConvergenceWarning)\n",
            "/usr/local/lib/python3.6/dist-packages/sklearn/neural_network/_multilayer_perceptron.py:571: ConvergenceWarning: Stochastic Optimizer: Maximum iterations (200) reached and the optimization hasn't converged yet.\n",
            "  % self.max_iter, ConvergenceWarning)\n",
            "/usr/local/lib/python3.6/dist-packages/sklearn/neural_network/_multilayer_perceptron.py:571: ConvergenceWarning: Stochastic Optimizer: Maximum iterations (200) reached and the optimization hasn't converged yet.\n",
            "  % self.max_iter, ConvergenceWarning)\n",
            "/usr/local/lib/python3.6/dist-packages/sklearn/neural_network/_multilayer_perceptron.py:571: ConvergenceWarning: Stochastic Optimizer: Maximum iterations (200) reached and the optimization hasn't converged yet.\n",
            "  % self.max_iter, ConvergenceWarning)\n"
          ],
          "name": "stderr"
        }
      ]
    },
    {
      "cell_type": "code",
      "metadata": {
        "colab": {
          "base_uri": "https://localhost:8080/"
        },
        "id": "4KlN0qq0dO3K",
        "outputId": "59e393cb-91c1-4100-b9bf-b06df7b75b94"
      },
      "source": [
        "best_child"
      ],
      "execution_count": null,
      "outputs": [
        {
          "output_type": "execute_result",
          "data": {
            "text/plain": [
              "MLPClassifier(activation='relu', alpha=0.0001, batch_size='auto', beta_1=0.9,\n",
              "              beta_2=0.999, early_stopping=False, epsilon=1e-08,\n",
              "              hidden_layer_sizes=(100, 56), learning_rate='constant',\n",
              "              learning_rate_init=0.001, max_fun=15000, max_iter=200,\n",
              "              momentum=0.9, n_iter_no_change=10, nesterovs_momentum=True,\n",
              "              power_t=0.5, random_state=None, shuffle=True, solver='adam',\n",
              "              tol=0.0001, validation_fraction=0.1, verbose=False,\n",
              "              warm_start=False)"
            ]
          },
          "metadata": {
            "tags": []
          },
          "execution_count": 20
        }
      ]
    },
    {
      "cell_type": "markdown",
      "metadata": {
        "id": "LyIJ-s7Gpaj5"
      },
      "source": [
        "#### Accuracy:\n",
        "the accuracy is the rate of the test labels which were correctly detected divised by all the test labels:"
      ]
    },
    {
      "cell_type": "code",
      "metadata": {
        "colab": {
          "base_uri": "https://localhost:8080/"
        },
        "id": "7ciu8_ODo8we",
        "outputId": "c4599c3a-0584-4cd9-ff84-43fcc10c0741"
      },
      "source": [
        "accuracy = accuracy_score(best_child.predict(X_test),y_test)\n",
        "accuracy"
      ],
      "execution_count": null,
      "outputs": [
        {
          "output_type": "execute_result",
          "data": {
            "text/plain": [
              "0.95"
            ]
          },
          "metadata": {
            "tags": []
          },
          "execution_count": 70
        }
      ]
    },
    {
      "cell_type": "code",
      "metadata": {
        "colab": {
          "base_uri": "https://localhost:8080/"
        },
        "id": "7xKQwcApgDRN",
        "outputId": "031c6bc8-f689-43b1-e475-a0cbdeb5b12c"
      },
      "source": [
        "best_child.predict(X_test)"
      ],
      "execution_count": null,
      "outputs": [
        {
          "output_type": "execute_result",
          "data": {
            "text/plain": [
              "array([2, 1, 2, 0, 1, 2, 1, 0, 0, 0, 1, 0, 2, 1, 1, 2, 2, 2, 0, 2, 1, 2,\n",
              "       1, 0, 0, 0, 1, 2, 2, 1, 1, 0, 2, 1, 1, 2, 2, 0, 1, 2, 2, 2, 2, 1,\n",
              "       2, 0, 2, 2, 1, 0, 2, 0, 0, 0, 2, 0, 0, 1, 0, 1, 2, 2, 2, 1, 1, 0,\n",
              "       0, 2, 1, 2, 0, 2, 0, 1, 1, 0, 1, 2, 1, 0, 2, 2, 1, 0, 1, 1, 0, 1,\n",
              "       0, 2, 1, 1, 0, 1, 2, 2, 1, 0, 1, 0, 0, 2, 1, 1, 1, 2, 1, 0, 0, 0,\n",
              "       1, 0, 0, 0, 0, 0, 2, 1, 1, 0])"
            ]
          },
          "metadata": {
            "tags": []
          },
          "execution_count": 71
        }
      ]
    },
    {
      "cell_type": "code",
      "metadata": {
        "colab": {
          "base_uri": "https://localhost:8080/"
        },
        "id": "vQid75qcgGgK",
        "outputId": "397087f6-b45e-4190-d8b9-f2ef7fce7c34"
      },
      "source": [
        "y_test"
      ],
      "execution_count": null,
      "outputs": [
        {
          "output_type": "execute_result",
          "data": {
            "text/plain": [
              "array([1, 1, 0, 0, 0, 0, 2, 2, 0, 1, 0, 2, 2, 1, 2, 0, 1, 1, 1, 0, 0, 0,\n",
              "       2, 0, 0, 0, 1, 2, 2, 1, 2, 1, 1, 0, 2, 1, 0, 0, 0, 0, 2, 2, 1, 2,\n",
              "       0, 0, 0, 0, 2, 1, 2, 0, 2, 0, 1, 2, 1, 2, 2, 1, 1, 2, 0, 0, 1, 1,\n",
              "       2, 2, 2, 2, 0, 0, 2, 1, 1, 1, 0, 2, 0, 0, 1, 0, 1, 1, 1, 0, 0, 0,\n",
              "       2, 2, 1, 1, 2, 0, 2, 1, 2, 2, 2, 1, 1, 2, 2, 1, 1, 0, 1, 1, 2, 1,\n",
              "       0, 0, 0, 0, 0, 1, 0, 1, 1, 1])"
            ]
          },
          "metadata": {
            "tags": []
          },
          "execution_count": 31
        }
      ]
    },
    {
      "cell_type": "markdown",
      "metadata": {
        "id": "wtOwzGlep5to"
      },
      "source": [
        "####Confusion Matrix:\n",
        "Confusion matrix is a matrix which describe the numbers of each predicted labels against the true values."
      ]
    },
    {
      "cell_type": "code",
      "metadata": {
        "colab": {
          "base_uri": "https://localhost:8080/",
          "height": 301
        },
        "id": "08k7o-Kpp-U7",
        "outputId": "01a925ef-3fd6-4492-d417-fa960653814a"
      },
      "source": [
        "o = ['setosa', 'versicolor', 'virginica']\n",
        "cm = confusion_matrix(y_test, best_child.predict(X_test))\n",
        "ConfusionMatrixDisplay(cm, o).plot()"
      ],
      "execution_count": null,
      "outputs": [
        {
          "output_type": "execute_result",
          "data": {
            "text/plain": [
              "<sklearn.metrics._plot.confusion_matrix.ConfusionMatrixDisplay at 0x7f280706ec50>"
            ]
          },
          "metadata": {
            "tags": []
          },
          "execution_count": 47
        },
        {
          "output_type": "display_data",
          "data": {
            "image/png": "[encoded data removed]",
            "text/plain": [
              "<Figure size 432x288 with 2 Axes>"
            ]
          },
          "metadata": {
            "tags": [],
            "needs_background": "light"
          }
        }
      ]
    },
    {
      "cell_type": "markdown",
      "metadata": {
        "id": "nrkbr_SaqfHb"
      },
      "source": [
        "#### Roc:\n",
        "The ROC curve make us have an idea of how good is the prediction of our model.\n",
        "we'll use the function \"*roc_curve*\" which has as input the true binary labels and predicted binary labels.\n",
        "the function returns the \"*fpr*\" dictionary which is the false positive rates and \"*tpr*\" true positive rates.\n",
        "The curve represent the confusion matrix with differents thresholds.\n",
        "So the curve shows that we have a performent model with a true positive rate close to 1 and false positive rate close to 0."
      ]
    },
    {
      "cell_type": "code",
      "metadata": {
        "id": "MKHV6Yn5qZkk"
      },
      "source": [
        "pred = np.array(best_child.predict(X_test))\n",
        "y_test = to_categorical(y_test)\n",
        "pred = to_categorical(pred)\n",
        "\n",
        "n_classes=len(y_test[0])\n",
        "lw=2"
      ],
      "execution_count": null,
      "outputs": []
    },
    {
      "cell_type": "code",
      "metadata": {
        "colab": {
          "base_uri": "https://localhost:8080/",
          "height": 313
        },
        "id": "TuTcZMDYtwV5",
        "outputId": "14f0b6a4-cf9b-4219-c81d-724502ea0192"
      },
      "source": [
        "fpr = dict()\n",
        "tpr = dict()\n",
        "roc_auc = dict()\n",
        "for i in range(n_classes):\n",
        "    fpr[i], tpr[i], thresholds = roc_curve(y_test[:, i], pred[:, i], pos_label=1)\n",
        "    roc_auc[i] = auc(fpr[i], tpr[i])\n",
        "\n",
        "colors = cycle(['aqua', 'darkorange', 'cornflowerblue'])\n",
        "for i, color in zip(range(n_classes), colors):\n",
        "    plt.plot(fpr[i], tpr[i], color=color, lw=lw,\n",
        "             label='ROC curve of class {0} (area = {1:0.2f})'.format(i, roc_auc[i]))\n",
        "plt.xlabel(\"False Positive Rate\")\n",
        "plt.ylabel(\"True Positive Rate\")\n",
        "plt.legend(loc=\"best\")\n",
        "plt.title(\"ROC curve\")"
      ],
      "execution_count": null,
      "outputs": [
        {
          "output_type": "execute_result",
          "data": {
            "text/plain": [
              "Text(0.5, 1.0, 'ROC curve')"
            ]
          },
          "metadata": {
            "tags": []
          },
          "execution_count": 56
        },
        {
          "output_type": "display_data",
          "data": {
            "image/png": "[encoded data removed]",
            "text/plain": [
              "<Figure size 432x288 with 1 Axes>"
            ]
          },
          "metadata": {
            "tags": [],
            "needs_background": "light"
          }
        }
      ]
    },
    {
      "cell_type": "markdown",
      "metadata": {
        "id": "ToI7aDw-vUl3"
      },
      "source": [
        "####Precision recall:"
      ]
    },
    {
      "cell_type": "code",
      "metadata": {
        "colab": {
          "base_uri": "https://localhost:8080/",
          "height": 295
        },
        "id": "2dMHcQmXuWS0",
        "outputId": "e26213f6-2526-4fa5-aa3e-e6f1a1962191"
      },
      "source": [
        "precision = dict()\n",
        "recall = dict()\n",
        "for i in range(n_classes):\n",
        "    precision[i], recall[i], _ = precision_recall_curve(y_test[:, i],\n",
        "                                                        pred[:, i])\n",
        "    plt.plot(recall[i], precision[i], lw=2, label='class {}'.format(i))\n",
        "    \n",
        "plt.xlabel(\"recall\")\n",
        "plt.ylabel(\"precision\")\n",
        "plt.legend(loc=\"best\")\n",
        "plt.title(\"precision vs. recall curve\")\n",
        "plt.show()"
      ],
      "execution_count": null,
      "outputs": [
        {
          "output_type": "display_data",
          "data": {
            "image/png": "[encoded data removed]",
            "text/plain": [
              "<Figure size 432x288 with 1 Axes>"
            ]
          },
          "metadata": {
            "tags": [],
            "needs_background": "light"
          }
        }
      ]
    }
  ]
}