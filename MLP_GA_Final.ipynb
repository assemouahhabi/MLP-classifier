{
  "nbformat": 4,
  "nbformat_minor": 0,
  "metadata": {
    "colab": {
      "name": "MLP_GA_Final.ipynb",
      "provenance": [],
      "collapsed_sections": []
    },
    "kernelspec": {
      "name": "python3",
      "display_name": "Python 3"
    }
  },
  "cells": [
    {
      "cell_type": "code",
      "metadata": {
        "colab": {
          "base_uri": "https://localhost:8080/"
        },
        "id": "9Pj7CTQ98NEj",
        "outputId": "4cec7e5e-f70d-413e-f5ec-036800970e86"
      },
      "source": [
        "%reset"
      ],
      "execution_count": null,
      "outputs": [
        {
          "output_type": "stream",
          "text": [
            "Once deleted, variables cannot be recovered. Proceed (y/[n])? y\n"
          ],
          "name": "stdout"
        }
      ]
    },
    {
      "cell_type": "markdown",
      "metadata": {
        "id": "L0NBZ9X-Ym6j"
      },
      "source": [
        "###Load librairies:"
      ]
    },
    {
      "cell_type": "code",
      "metadata": {
        "id": "4kHwQztG5en5"
      },
      "source": [
        "from sklearn import datasets\n",
        "import numpy as np\n",
        "from sklearn.neural_network import MLPClassifier\n",
        "from sklearn.metrics import accuracy_score\n",
        "from sklearn.model_selection import train_test_split\n",
        "from random import randint\n",
        "import random\n",
        "from sklearn.metrics import accuracy_score, confusion_matrix, ConfusionMatrixDisplay\n",
        "\n",
        "\n",
        "from sklearn.metrics import precision_recall_curve\n",
        "from sklearn.metrics import PrecisionRecallDisplay\n",
        "from itertools import cycle\n",
        "\n",
        "from sklearn.metrics import roc_curve, auc\n",
        "from sklearn.metrics import RocCurveDisplay\n",
        "import matplotlib.pyplot as plt\n",
        "\n",
        "\n",
        "from tensorflow.keras.utils import to_categorical\n"
      ],
      "execution_count": 11,
      "outputs": []
    },
    {
      "cell_type": "markdown",
      "metadata": {
        "id": "mrZUExi0Aw81"
      },
      "source": [
        "We load the data:"
      ]
    },
    {
      "cell_type": "code",
      "metadata": {
        "id": "upB0ZYlV5qJA"
      },
      "source": [
        "iris = datasets.load_iris()\n",
        "X = iris.data\n",
        "y = iris.target\n",
        "X_train, X_test, y_train, y_test = train_test_split(X,y, test_size = 0.8)"
      ],
      "execution_count": 135,
      "outputs": []
    },
    {
      "cell_type": "markdown",
      "metadata": {
        "id": "eOby37HVA1k6"
      },
      "source": [
        "#Initializing the population:\n",
        "At this point, we need to initialize the population. The MLP is known to have activation functions to compute the value of weights, so we took for example the ('identity', 'tanh', 'relu', 'logistic') functions, the same for the optimizers ('sgd', 'adam', 'RMSprop').\n",
        "\n",
        "\n",
        "The function \"*pop_initial_mlp*\" will have as an input the size of the population, and return as an output an array which contains an activation function, an optimizer and a size of hidden layers choosen randomly."
      ]
    },
    {
      "cell_type": "code",
      "metadata": {
        "id": "2q33BlMA58oM"
      },
      "source": [
        "def pop_initial_mlp(mlp):\n",
        "  pop = []*mlp\n",
        "  activation_func = ['identity', 'tanh', 'relu', 'logistic']\n",
        "  optimizer = ['sgd', 'adam']\n",
        "  for i in range(0, mlp):\n",
        "    pop.append([random.choice(activation_func), random.choice(optimizer), random.randint(10,100), random.randint(10,100)])\n",
        "  return pop"
      ],
      "execution_count": 13,
      "outputs": []
    },
    {
      "cell_type": "markdown",
      "metadata": {
        "id": "huLI9fgWKP_H"
      },
      "source": [
        "test:"
      ]
    },
    {
      "cell_type": "code",
      "metadata": {
        "colab": {
          "base_uri": "https://localhost:8080/"
        },
        "id": "T_ij1uAyKO7M",
        "outputId": "c11d3e60-3832-473c-f3d3-633c4e7f5d86"
      },
      "source": [
        "#pop = pop_initial_mlp(10)\n",
        "#pop"
      ],
      "execution_count": null,
      "outputs": [
        {
          "output_type": "execute_result",
          "data": {
            "text/plain": [
              "[['logistic', 'adam', 96, 97],\n",
              " ['relu', 'adam', 39, 64],\n",
              " ['identity', 'sgd', 64, 80],\n",
              " ['relu', 'adam', 83, 87],\n",
              " ['logistic', 'adam', 81, 91],\n",
              " ['identity', 'adam', 59, 42],\n",
              " ['logistic', 'adam', 84, 39],\n",
              " ['tanh', 'adam', 39, 37],\n",
              " ['identity', 'adam', 67, 92],\n",
              " ['identity', 'adam', 67, 33]]"
            ]
          },
          "metadata": {
            "tags": []
          },
          "execution_count": 60
        }
      ]
    },
    {
      "cell_type": "markdown",
      "metadata": {
        "id": "vF3gA4KACUlX"
      },
      "source": [
        "#Computing fitness value:\n",
        "The function \"*fitness_mlp*\" have as input the population gotten with \"*pop_initial_mlp*\", the train data and the test data, and it returns the value of fitness of each element of the array \"*pop*\" which represent the attribute of the MLP classifier:"
      ]
    },
    {
      "cell_type": "code",
      "metadata": {
        "id": "GgW2YonQ67pd"
      },
      "source": [
        "def fitness_mlp(pop, X_train, y_train, X_test, y_test):\n",
        "  fitness = []\n",
        "  mlp = []\n",
        "  for p in pop:\n",
        "    mlpc = MLPClassifier(activation=p[0], solver=p[1], hidden_layer_sizes=(int(p[2]),int(p[3])), alpha=0.0001)\n",
        "    mlp.append([mlpc,p])\n",
        "  for m in mlp:\n",
        "      m[0].fit(X_train, y_train)\n",
        "      acc = accuracy_score(m[0].predict(X_test), y_test)\n",
        "      fitness.append([acc, m[0], m[1]])\n",
        "  return fitness"
      ],
      "execution_count": 14,
      "outputs": []
    },
    {
      "cell_type": "markdown",
      "metadata": {
        "id": "SnZRKee7KTAe"
      },
      "source": [
        "test:"
      ]
    },
    {
      "cell_type": "code",
      "metadata": {
        "colab": {
          "base_uri": "https://localhost:8080/"
        },
        "id": "EIWNTUlm8VHG",
        "outputId": "6ffdee56-ed10-4b43-8357-e64ab71b99dd"
      },
      "source": [
        "#fitness = fitness_mlp(pop, X_train, y_train, X_test, y_test)\n",
        "#for fit in fitness:\n",
        "#  print(\"*****************************\")\n",
        "#  print(fit[0])\n",
        "#  print(fit[1])\n",
        "#  print(fit[2])\n",
        "#  print(\"*****************************\")"
      ],
      "execution_count": null,
      "outputs": [
        {
          "output_type": "stream",
          "text": [
            "/usr/local/lib/python3.6/dist-packages/sklearn/neural_network/_multilayer_perceptron.py:571: ConvergenceWarning: Stochastic Optimizer: Maximum iterations (200) reached and the optimization hasn't converged yet.\n",
            "  % self.max_iter, ConvergenceWarning)\n",
            "/usr/local/lib/python3.6/dist-packages/sklearn/neural_network/_multilayer_perceptron.py:571: ConvergenceWarning: Stochastic Optimizer: Maximum iterations (200) reached and the optimization hasn't converged yet.\n",
            "  % self.max_iter, ConvergenceWarning)\n",
            "/usr/local/lib/python3.6/dist-packages/sklearn/neural_network/_multilayer_perceptron.py:571: ConvergenceWarning: Stochastic Optimizer: Maximum iterations (200) reached and the optimization hasn't converged yet.\n",
            "  % self.max_iter, ConvergenceWarning)\n",
            "/usr/local/lib/python3.6/dist-packages/sklearn/neural_network/_multilayer_perceptron.py:571: ConvergenceWarning: Stochastic Optimizer: Maximum iterations (200) reached and the optimization hasn't converged yet.\n",
            "  % self.max_iter, ConvergenceWarning)\n",
            "/usr/local/lib/python3.6/dist-packages/sklearn/neural_network/_multilayer_perceptron.py:571: ConvergenceWarning: Stochastic Optimizer: Maximum iterations (200) reached and the optimization hasn't converged yet.\n",
            "  % self.max_iter, ConvergenceWarning)\n",
            "/usr/local/lib/python3.6/dist-packages/sklearn/neural_network/_multilayer_perceptron.py:571: ConvergenceWarning: Stochastic Optimizer: Maximum iterations (200) reached and the optimization hasn't converged yet.\n",
            "  % self.max_iter, ConvergenceWarning)\n",
            "/usr/local/lib/python3.6/dist-packages/sklearn/neural_network/_multilayer_perceptron.py:571: ConvergenceWarning: Stochastic Optimizer: Maximum iterations (200) reached and the optimization hasn't converged yet.\n",
            "  % self.max_iter, ConvergenceWarning)\n"
          ],
          "name": "stderr"
        },
        {
          "output_type": "stream",
          "text": [
            "*****************************\n",
            "0.9666666666666667\n",
            "MLPClassifier(activation='tanh', alpha=0.0001, batch_size='auto', beta_1=0.9,\n",
            "              beta_2=0.999, early_stopping=False, epsilon=1e-08,\n",
            "              hidden_layer_sizes=(82, 26), learning_rate='constant',\n",
            "              learning_rate_init=0.001, max_fun=15000, max_iter=200,\n",
            "              momentum=0.9, n_iter_no_change=10, nesterovs_momentum=True,\n",
            "              power_t=0.5, random_state=None, shuffle=True, solver='adam',\n",
            "              tol=0.0001, validation_fraction=0.1, verbose=False,\n",
            "              warm_start=False)\n",
            "['tanh', 'adam', 82, 26]\n",
            "*****************************\n",
            "*****************************\n",
            "0.9166666666666666\n",
            "MLPClassifier(activation='relu', alpha=0.0001, batch_size='auto', beta_1=0.9,\n",
            "              beta_2=0.999, early_stopping=False, epsilon=1e-08,\n",
            "              hidden_layer_sizes=(74, 76), learning_rate='constant',\n",
            "              learning_rate_init=0.001, max_fun=15000, max_iter=200,\n",
            "              momentum=0.9, n_iter_no_change=10, nesterovs_momentum=True,\n",
            "              power_t=0.5, random_state=None, shuffle=True, solver='sgd',\n",
            "              tol=0.0001, validation_fraction=0.1, verbose=False,\n",
            "              warm_start=False)\n",
            "['relu', 'sgd', 74, 76]\n",
            "*****************************\n",
            "*****************************\n",
            "0.925\n",
            "MLPClassifier(activation='identity', alpha=0.0001, batch_size='auto',\n",
            "              beta_1=0.9, beta_2=0.999, early_stopping=False, epsilon=1e-08,\n",
            "              hidden_layer_sizes=(22, 55), learning_rate='constant',\n",
            "              learning_rate_init=0.001, max_fun=15000, max_iter=200,\n",
            "              momentum=0.9, n_iter_no_change=10, nesterovs_momentum=True,\n",
            "              power_t=0.5, random_state=None, shuffle=True, solver='sgd',\n",
            "              tol=0.0001, validation_fraction=0.1, verbose=False,\n",
            "              warm_start=False)\n",
            "['identity', 'sgd', 22, 55]\n",
            "*****************************\n",
            "*****************************\n",
            "0.9583333333333334\n",
            "MLPClassifier(activation='identity', alpha=0.0001, batch_size='auto',\n",
            "              beta_1=0.9, beta_2=0.999, early_stopping=False, epsilon=1e-08,\n",
            "              hidden_layer_sizes=(34, 26), learning_rate='constant',\n",
            "              learning_rate_init=0.001, max_fun=15000, max_iter=200,\n",
            "              momentum=0.9, n_iter_no_change=10, nesterovs_momentum=True,\n",
            "              power_t=0.5, random_state=None, shuffle=True, solver='adam',\n",
            "              tol=0.0001, validation_fraction=0.1, verbose=False,\n",
            "              warm_start=False)\n",
            "['identity', 'adam', 34, 26]\n",
            "*****************************\n",
            "*****************************\n",
            "0.9666666666666667\n",
            "MLPClassifier(activation='logistic', alpha=0.0001, batch_size='auto',\n",
            "              beta_1=0.9, beta_2=0.999, early_stopping=False, epsilon=1e-08,\n",
            "              hidden_layer_sizes=(56, 79), learning_rate='constant',\n",
            "              learning_rate_init=0.001, max_fun=15000, max_iter=200,\n",
            "              momentum=0.9, n_iter_no_change=10, nesterovs_momentum=True,\n",
            "              power_t=0.5, random_state=None, shuffle=True, solver='adam',\n",
            "              tol=0.0001, validation_fraction=0.1, verbose=False,\n",
            "              warm_start=False)\n",
            "['logistic', 'adam', 56, 79]\n",
            "*****************************\n",
            "*****************************\n",
            "0.30833333333333335\n",
            "MLPClassifier(activation='logistic', alpha=0.0001, batch_size='auto',\n",
            "              beta_1=0.9, beta_2=0.999, early_stopping=False, epsilon=1e-08,\n",
            "              hidden_layer_sizes=(45, 37), learning_rate='constant',\n",
            "              learning_rate_init=0.001, max_fun=15000, max_iter=200,\n",
            "              momentum=0.9, n_iter_no_change=10, nesterovs_momentum=True,\n",
            "              power_t=0.5, random_state=None, shuffle=True, solver='sgd',\n",
            "              tol=0.0001, validation_fraction=0.1, verbose=False,\n",
            "              warm_start=False)\n",
            "['logistic', 'sgd', 45, 37]\n",
            "*****************************\n",
            "*****************************\n",
            "0.30833333333333335\n",
            "MLPClassifier(activation='logistic', alpha=0.0001, batch_size='auto',\n",
            "              beta_1=0.9, beta_2=0.999, early_stopping=False, epsilon=1e-08,\n",
            "              hidden_layer_sizes=(98, 88), learning_rate='constant',\n",
            "              learning_rate_init=0.001, max_fun=15000, max_iter=200,\n",
            "              momentum=0.9, n_iter_no_change=10, nesterovs_momentum=True,\n",
            "              power_t=0.5, random_state=None, shuffle=True, solver='sgd',\n",
            "              tol=0.0001, validation_fraction=0.1, verbose=False,\n",
            "              warm_start=False)\n",
            "['logistic', 'sgd', 98, 88]\n",
            "*****************************\n",
            "*****************************\n",
            "0.9\n",
            "MLPClassifier(activation='relu', alpha=0.0001, batch_size='auto', beta_1=0.9,\n",
            "              beta_2=0.999, early_stopping=False, epsilon=1e-08,\n",
            "              hidden_layer_sizes=(97, 91), learning_rate='constant',\n",
            "              learning_rate_init=0.001, max_fun=15000, max_iter=200,\n",
            "              momentum=0.9, n_iter_no_change=10, nesterovs_momentum=True,\n",
            "              power_t=0.5, random_state=None, shuffle=True, solver='sgd',\n",
            "              tol=0.0001, validation_fraction=0.1, verbose=False,\n",
            "              warm_start=False)\n",
            "['relu', 'sgd', 97, 91]\n",
            "*****************************\n",
            "*****************************\n",
            "0.9666666666666667\n",
            "MLPClassifier(activation='identity', alpha=0.0001, batch_size='auto',\n",
            "              beta_1=0.9, beta_2=0.999, early_stopping=False, epsilon=1e-08,\n",
            "              hidden_layer_sizes=(67, 66), learning_rate='constant',\n",
            "              learning_rate_init=0.001, max_fun=15000, max_iter=200,\n",
            "              momentum=0.9, n_iter_no_change=10, nesterovs_momentum=True,\n",
            "              power_t=0.5, random_state=None, shuffle=True, solver='sgd',\n",
            "              tol=0.0001, validation_fraction=0.1, verbose=False,\n",
            "              warm_start=False)\n",
            "['identity', 'sgd', 67, 66]\n",
            "*****************************\n",
            "*****************************\n",
            "0.9666666666666667\n",
            "MLPClassifier(activation='relu', alpha=0.0001, batch_size='auto', beta_1=0.9,\n",
            "              beta_2=0.999, early_stopping=False, epsilon=1e-08,\n",
            "              hidden_layer_sizes=(46, 37), learning_rate='constant',\n",
            "              learning_rate_init=0.001, max_fun=15000, max_iter=200,\n",
            "              momentum=0.9, n_iter_no_change=10, nesterovs_momentum=True,\n",
            "              power_t=0.5, random_state=None, shuffle=True, solver='adam',\n",
            "              tol=0.0001, validation_fraction=0.1, verbose=False,\n",
            "              warm_start=False)\n",
            "['relu', 'adam', 46, 37]\n",
            "*****************************\n"
          ],
          "name": "stdout"
        },
        {
          "output_type": "stream",
          "text": [
            "/usr/local/lib/python3.6/dist-packages/sklearn/neural_network/_multilayer_perceptron.py:571: ConvergenceWarning: Stochastic Optimizer: Maximum iterations (200) reached and the optimization hasn't converged yet.\n",
            "  % self.max_iter, ConvergenceWarning)\n"
          ],
          "name": "stderr"
        }
      ]
    },
    {
      "cell_type": "markdown",
      "metadata": {
        "id": "mZOFI0PfK5z9"
      },
      "source": [
        "#Select chromosomes with Rank Selection:\n",
        "The function bellow select chromosomes based on the fitness ranking, so the chromosomes which have the better fitness as best parents and the ones with a low fitness as worst parents:\n"
      ]
    },
    {
      "cell_type": "code",
      "metadata": {
        "id": "06-COt2zKj83"
      },
      "source": [
        "def pop_fitness_selection(fitness):\n",
        "  fittest= sorted(fitness, key=lambda elt: elt[0])\n",
        "  fittest.reverse()\n",
        "  fittest = np.array(list(fittest))\n",
        "  best_parent = fittest[:,2][:len(fittest)//2]\n",
        "  worst_parent = fittest[:,2][len(fittest)//2:]\n",
        "  return best_parent, worst_parent, fittest"
      ],
      "execution_count": 15,
      "outputs": []
    },
    {
      "cell_type": "markdown",
      "metadata": {
        "id": "vTu9p8j0P3qq"
      },
      "source": [
        "test:"
      ]
    },
    {
      "cell_type": "code",
      "metadata": {
        "colab": {
          "base_uri": "https://localhost:8080/"
        },
        "id": "MMillh_jN12h",
        "outputId": "f64a5cfd-d580-4dad-af9b-6f024f450932"
      },
      "source": [
        "#best_parent, worst_parent, fitness_sorted = pop_fitness_selection(fitness)\n",
        "#for fit in fittest:\n",
        "#  print(fit[0])\n",
        "#  print(fit[2])\n",
        "#print(\"************************\")\n",
        "#print(\"parents\")\n",
        "#print(\"***\")\n",
        "#print(best_parent[0])\n",
        "#print(\"***\")\n",
        "#print(worst_parent[1])"
      ],
      "execution_count": null,
      "outputs": [
        {
          "output_type": "stream",
          "text": [
            "***\n",
            "['relu', 'adam', 46, 37]\n",
            "***\n",
            "['relu', 'sgd', 97, 91]\n"
          ],
          "name": "stdout"
        },
        {
          "output_type": "stream",
          "text": [
            "/usr/local/lib/python3.6/dist-packages/ipykernel_launcher.py:4: VisibleDeprecationWarning: Creating an ndarray from ragged nested sequences (which is a list-or-tuple of lists-or-tuples-or ndarrays with different lengths or shapes) is deprecated. If you meant to do this, you must specify 'dtype=object' when creating the ndarray\n",
            "  after removing the cwd from sys.path.\n"
          ],
          "name": "stderr"
        }
      ]
    },
    {
      "cell_type": "markdown",
      "metadata": {
        "id": "7XQmfkcVX9_c"
      },
      "source": [
        "#Crossover:\n",
        "At this part we will crossover the best and worst parent to get better children (eugenics ~ eugénisme), so the child will get the chromosomes of the parents:"
      ]
    },
    {
      "cell_type": "code",
      "metadata": {
        "id": "XM-pIxaAQDRB"
      },
      "source": [
        "def crossover_mlp(best_parent, worst_parent):\n",
        "  child = [best_parent[0], worst_parent[1], best_parent[2], worst_parent[3]]\n",
        "  return child"
      ],
      "execution_count": 16,
      "outputs": []
    },
    {
      "cell_type": "markdown",
      "metadata": {
        "id": "2k9AU0HRYBx2"
      },
      "source": [
        "test:"
      ]
    },
    {
      "cell_type": "code",
      "metadata": {
        "colab": {
          "base_uri": "https://localhost:8080/"
        },
        "id": "W0YfEiJGYBKK",
        "outputId": "dec39233-b75b-4e5a-ccd9-151412bd1b2d"
      },
      "source": [
        "#child = crossover_mlp(best_parent, worst_parent)\n",
        "#child"
      ],
      "execution_count": null,
      "outputs": [
        {
          "output_type": "execute_result",
          "data": {
            "text/plain": [
              "[['relu', 'adam', 46, 37],\n",
              " ['relu', 'sgd', 97, 91],\n",
              " ['identity', 'adam', 34, 26],\n",
              " ['logistic', 'sgd', 98, 88]]"
            ]
          },
          "metadata": {
            "tags": []
          },
          "execution_count": 54
        }
      ]
    },
    {
      "cell_type": "markdown",
      "metadata": {
        "id": "Xrd3jiy1Y3DS"
      },
      "source": [
        "#Mutation (Random Resetting):\n",
        "Like viruses and living species, choromosomes mutates to adapt to new environments. At this point, we mutate the chromosome of the best parents and worst parents with a probabilistic threshold, the mutation will be random, as we'll change the size of the MLP randomly:"
      ]
    },
    {
      "cell_type": "code",
      "metadata": {
        "id": "x1LB6eYaY6CK"
      },
      "source": [
        "def mutation_mlp(child, prob):\n",
        "  for l in range(0,len(child)):\n",
        "    if np.random.rand() > prob:\n",
        "      child[l][randint(2,3)] = child[l][randint(2,3)]+randint(1,10)\n",
        "  return child"
      ],
      "execution_count": 24,
      "outputs": []
    },
    {
      "cell_type": "code",
      "metadata": {
        "colab": {
          "base_uri": "https://localhost:8080/"
        },
        "id": "YrrJEj_Pdrtg",
        "outputId": "c8039b06-09c7-4fe1-8680-e7b859f2c3cc"
      },
      "source": [
        "#child = mutation_mlp(child, 0.2)\n",
        "#child"
      ],
      "execution_count": null,
      "outputs": [
        {
          "output_type": "execute_result",
          "data": {
            "text/plain": [
              "[['relu', 'adam', 46, 37],\n",
              " ['relu', 'sgd', 97, 91],\n",
              " ['identity', 'adam', 34, 26],\n",
              " ['logistic', 'sgd', 98, 88]]"
            ]
          },
          "metadata": {
            "tags": []
          },
          "execution_count": 52
        }
      ]
    },
    {
      "cell_type": "markdown",
      "metadata": {
        "id": "2h2UnsbmfMwI"
      },
      "source": [
        "#Genetic Algorithm:\n",
        "At this part we'll just apply the genetic algorithm, using the methodes defined previously.\n",
        "First, we'll initialize a population \"*pop*\" which is an mlp of size \"*mlp*\", compute it \"*fitness*\" then choose the best and worst parents (those who've a great fitness and the ones with the worst fitness).\n",
        "Secondly, we'd try to get the \"*best_childs*\" by calculating the fitness of two childrens, the \"*firstchild*\" we'll be the result of a crossover between the \"*best_parent*\" and the \"*worst_parent*\" that we'd get by calculating the firness of the population \"*pop*\", and the \"*secondchild*\" will be mutated randomly by the threshold \"*prop*\", and keep looping on the number of \"*epochs*\" to get better results."
      ]
    },
    {
      "cell_type": "code",
      "metadata": {
        "id": "v1ndG64dfPla"
      },
      "source": [
        "def ga_mlp(X_train, y_train, X_test, y_test, epochs, mlp, prob):\n",
        "  pop = pop_initial_mlp(mlp)\n",
        "  fitness = fitness_mlp(pop, X_train, y_train, X_test, y_test)\n",
        "  best_parent, worst_parent, fittest = pop_fitness_selection(fitness)\n",
        "\n",
        "  for e in range(0, epochs):\n",
        "    for i in range(0, len(best_parent)):\n",
        "      firstchild = [crossover_mlp(best_parent[i], worst_parent[i])]\n",
        "      secondchild = [crossover_mlp(worst_parent[i], best_parent[i])]\n",
        "    secondchild = mutation_mlp(secondchild, prob)\n",
        "\n",
        "    fitness_firstchild = fitness_mlp(firstchild, X_train, y_train, X_test, y_test)\n",
        "    fitness_secondchild = fitness_mlp(secondchild, X_train, y_train, X_test, y_test)\n",
        "    fitness_childs = np.concatenate((fittest, fitness_firstchild, fitness_secondchild))\n",
        "    best_childs, worst_child, fittest_child = pop_fitness_selection(fitness_childs)\n",
        "\n",
        "    fitness = fittest_child[0:mlp, :]\n",
        "    best_child = fittest_child[0][1]\n",
        "  return best_child"
      ],
      "execution_count": 25,
      "outputs": []
    },
    {
      "cell_type": "markdown",
      "metadata": {
        "id": "6hw1puZjpVVJ"
      },
      "source": [
        "#Application de l'algorithme génétique sur le MLP:"
      ]
    },
    {
      "cell_type": "markdown",
      "metadata": {
        "id": "j5EclLzIpmbN"
      },
      "source": [
        "#### Meilleur chromosome:\n",
        "The execution of the function \"*ga_mlp*\" returns the best choromosome which is \"*best_child*\":"
      ]
    },
    {
      "cell_type": "code",
      "metadata": {
        "id": "sDtiA8T7ikPF"
      },
      "source": [
        "best_child = ga_mlp(X_train, y_train, X_test, y_test, epochs= 50, mlp= 100, prob= 0.1)"
      ],
      "execution_count": null,
      "outputs": []
    },
    {
      "cell_type": "code",
      "metadata": {
        "colab": {
          "base_uri": "https://localhost:8080/"
        },
        "id": "4KlN0qq0dO3K",
        "outputId": "301ecff3-88b2-475a-ba4f-580b4d80adf9"
      },
      "source": [
        "best_child"
      ],
      "execution_count": 109,
      "outputs": [
        {
          "output_type": "execute_result",
          "data": {
            "text/plain": [
              "MLPClassifier(activation='relu', alpha=0.0001, batch_size='auto', beta_1=0.9,\n",
              "              beta_2=0.999, early_stopping=False, epsilon=1e-08,\n",
              "              hidden_layer_sizes=(43, 43), learning_rate='constant',\n",
              "              learning_rate_init=0.001, max_fun=15000, max_iter=200,\n",
              "              momentum=0.9, n_iter_no_change=10, nesterovs_momentum=True,\n",
              "              power_t=0.5, random_state=None, shuffle=True, solver='adam',\n",
              "              tol=0.0001, validation_fraction=0.1, verbose=False,\n",
              "              warm_start=False)"
            ]
          },
          "metadata": {
            "tags": []
          },
          "execution_count": 109
        }
      ]
    },
    {
      "cell_type": "markdown",
      "metadata": {
        "id": "LyIJ-s7Gpaj5"
      },
      "source": [
        "#### Accuracy:\n",
        "the accuracy is the rate of the test labels which were correctly detected divised by all the test labels:"
      ]
    },
    {
      "cell_type": "code",
      "metadata": {
        "colab": {
          "base_uri": "https://localhost:8080/"
        },
        "id": "7ciu8_ODo8we",
        "outputId": "8d86de1a-3038-4179-e344-fcfa0df3c908"
      },
      "source": [
        "accuracy = accuracy_score(best_child.predict(X_test),y_test)\n",
        "accuracy"
      ],
      "execution_count": 111,
      "outputs": [
        {
          "output_type": "execute_result",
          "data": {
            "text/plain": [
              "0.9833333333333333"
            ]
          },
          "metadata": {
            "tags": []
          },
          "execution_count": 111
        }
      ]
    },
    {
      "cell_type": "markdown",
      "metadata": {
        "id": "wtOwzGlep5to"
      },
      "source": [
        "####Confusion Matrix:\n",
        "Confusion matrix is a matrix which describe the numbers of each predicted labels against the true values."
      ]
    },
    {
      "cell_type": "code",
      "metadata": {
        "colab": {
          "base_uri": "https://localhost:8080/",
          "height": 297
        },
        "id": "08k7o-Kpp-U7",
        "outputId": "c9232795-7ae3-4804-e6e8-9191a140c04c"
      },
      "source": [
        "o = ['setosa', 'versicolor', 'virginica']\n",
        "cm = confusion_matrix(y_test, best_child.predict(X_test))\n",
        "ConfusionMatrixDisplay(cm, o).plot()"
      ],
      "execution_count": 113,
      "outputs": [
        {
          "output_type": "execute_result",
          "data": {
            "text/plain": [
              "<sklearn.metrics._plot.confusion_matrix.ConfusionMatrixDisplay at 0x7fdd019d3630>"
            ]
          },
          "metadata": {
            "tags": []
          },
          "execution_count": 113
        },
        {
          "output_type": "display_data",
          "data": {
            "image/png": "[encoded data removed]",
            "text/plain": [
              "<Figure size 432x288 with 2 Axes>"
            ]
          },
          "metadata": {
            "tags": [],
            "needs_background": "light"
          }
        }
      ]
    },
    {
      "cell_type": "markdown",
      "metadata": {
        "id": "nrkbr_SaqfHb"
      },
      "source": [
        "#### Roc:\n",
        "The ROC curve make us have an idea of how good is the prediction of our model.\n",
        "we'll use the function \"*roc_curve*\" which has as input the true binary labels and predicted binary labels.\n",
        "the function returns the \"*fpr*\" dictionary which is the false positive rates and \"*tpr*\" true positive rates.\n",
        "The curve represent the confusion matrix with differents thresholds.\n",
        "So the curve shows that we have a performent model with a true positive rate close to 1 and false positive rate close to 0."
      ]
    },
    {
      "cell_type": "code",
      "metadata": {
        "id": "MKHV6Yn5qZkk"
      },
      "source": [
        "pred = np.array(best_child.predict(X_test))\n",
        "y_test = to_categorical(y_test)\n",
        "pred = to_categorical(pred)\n",
        "\n",
        "n_classes=len(y_test[0])\n",
        "lw=2"
      ],
      "execution_count": 136,
      "outputs": []
    },
    {
      "cell_type": "code",
      "metadata": {
        "colab": {
          "base_uri": "https://localhost:8080/",
          "height": 313
        },
        "id": "TuTcZMDYtwV5",
        "outputId": "6026f332-79de-4708-b53b-d62677e83608"
      },
      "source": [
        "fpr = dict()\n",
        "tpr = dict()\n",
        "roc_auc = dict()\n",
        "labels_name=['setosa', 'versicolor', 'virginica']\n",
        "for i in range(n_classes):\n",
        "    fpr[i], tpr[i], thresholds = roc_curve(y_test[:, i], pred[:, i], pos_label=1)\n",
        "    roc_auc[i] = auc(fpr[i], tpr[i])\n",
        "\n",
        "colors = cycle(['aqua', 'darkorange', 'cornflowerblue'])\n",
        "for i, color in zip(range(n_classes), colors):\n",
        "    plt.plot(fpr[i], tpr[i], color=color, lw=lw,\n",
        "             label='ROC curve of '+labels_name[i]+' (area = {1:0.2f})'.format(i, roc_auc[i]))\n",
        "plt.xlabel(\"False Positive Rate\")\n",
        "plt.ylabel(\"True Positive Rate\")\n",
        "plt.legend(loc=\"best\")\n",
        "plt.title(\"ROC curve\")"
      ],
      "execution_count": 143,
      "outputs": [
        {
          "output_type": "execute_result",
          "data": {
            "text/plain": [
              "Text(0.5, 1.0, 'ROC curve')"
            ]
          },
          "metadata": {
            "tags": []
          },
          "execution_count": 143
        },
        {
          "output_type": "display_data",
          "data": {
            "image/png": "[encoded data removed]",
            "text/plain": [
              "<Figure size 432x288 with 1 Axes>"
            ]
          },
          "metadata": {
            "tags": [],
            "needs_background": "light"
          }
        }
      ]
    },
    {
      "cell_type": "markdown",
      "metadata": {
        "id": "ToI7aDw-vUl3"
      },
      "source": [
        "####Precision recall:\r\n",
        "As we can see in the curve below, for the setosa the precision is 1 and the recall is equal to 1, that means that the setosas were truly classified, the same for the versicolor even if the precision is equal to 95% the recall shows that the data which was classified was classified correctly, the same for the Virginica, even if the model was wrong in classification, still the one who were classified were correct"
      ]
    },
    {
      "cell_type": "code",
      "metadata": {
        "colab": {
          "base_uri": "https://localhost:8080/",
          "height": 295
        },
        "id": "2dMHcQmXuWS0",
        "outputId": "6dad7bc0-4e18-4a20-8b52-8c4b34998393"
      },
      "source": [
        "precision = dict()\n",
        "recall = dict()\n",
        "labels_name=['setosa', 'versicolor', 'virginica']\n",
        "for i in range(n_classes):\n",
        "    precision[i], recall[i], _ = precision_recall_curve(y_test[:, i],\n",
        "                                                        pred[:, i])\n",
        "    plt.plot(recall[i], precision[i], lw=2, label=labels_name[i])\n",
        "    \n",
        "plt.xlabel(\"recall\")\n",
        "plt.ylabel(\"precision\")\n",
        "plt.legend(loc=\"best\")\n",
        "plt.title(\"precision vs. recall curve\")\n",
        "plt.show()"
      ],
      "execution_count": 141,
      "outputs": [
        {
          "output_type": "display_data",
          "data": {
            "image/png": "[encoded data removed]",
            "text/plain": [
              "<Figure size 432x288 with 1 Axes>"
            ]
          },
          "metadata": {
            "tags": [],
            "needs_background": "light"
          }
        }
      ]
    }
  ]
}